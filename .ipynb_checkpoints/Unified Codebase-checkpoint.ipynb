{
 "cells": [
  {
   "cell_type": "markdown",
   "id": "c3cecda9-0313-47bd-b780-31479785d406",
   "metadata": {},
   "source": [
    "# Notebook Outline 🐳\n",
    "\n",
    "- **Notebook**: Consolidated Codebase of all Replicated Risk factors (16)\n",
    "- **Replicated Risk Factors**:\n",
    "  > Replicated 11 Risk Factors\n",
    "  - Customer Under SubPoena\n",
    "  - Enhanced PEP\n",
    "- **Data Used**:\n",
    "  - Static Excel File: Risk Factors - Static Data.xlsx\n",
    "  - Reference Excel File: Risk Factors - Reference Data.xlsx\n"
   ]
  },
  {
   "cell_type": "markdown",
   "id": "bc0483d6-0016-42ce-af2d-9b22bf1d308d",
   "metadata": {},
   "source": [
    "## Import Libraries and Configurations\n"
   ]
  },
  {
   "cell_type": "code",
   "execution_count": 138,
   "id": "3cbfe8c3-be12-4baa-b1b8-26e05da9806a",
   "metadata": {},
   "outputs": [],
   "source": [
    "import pandas as pd\n",
    "import numpy as np\n",
    "import logging\n",
    "import csv\n",
    "\n",
    "\n",
    "# Set up logging\n",
    "logging.basicConfig(level=logging.INFO)\n"
   ]
  },
  {
   "cell_type": "markdown",
   "id": "4f41c7b6-083a-4d10-965d-1597d0fb2e88",
   "metadata": {},
   "source": [
    "## Global Declarations (File Paths)\n"
   ]
  },
  {
   "cell_type": "code",
   "execution_count": 139,
   "id": "9ae23481-86b5-4432-8243-69375deab3c5",
   "metadata": {},
   "outputs": [],
   "source": [
    "# File path and sheet for In-scope lookup data\n",
    "lookup_file_path = r\"C:/Users/KadamatiV/Desktop/CRR TUNING CODE CONSOLIDATION/Data/Risk Factors - Reference Data.xlsx\"\n",
    "lookup_sheet_name = \"In scope Risk Factors\"\n",
    "\n",
    "\n",
    "# File path for reference and static data\n",
    "file_path_reference = r\"C:/Users/KadamatiV/Desktop/CRR TUNING CODE CONSOLIDATION/Data/\"\n",
    "file_name_reference = r\"Risk Factors - Reference Data.xlsx\"\n",
    "\n",
    "file_path_static = r\"C:/Users/KadamatiV/Desktop/CRR TUNING CODE CONSOLIDATION/Data/\"\n",
    "file_name_static = r\"Risk Factors - Static Data.xlsx\"\n"
   ]
  },
  {
   "cell_type": "markdown",
   "id": "40474518-37c9-43c4-8d71-66b886bc50d0",
   "metadata": {},
   "source": [
    "## Utility Functions 🐎\n"
   ]
  },
  {
   "cell_type": "markdown",
   "id": "61f4be1f-fce9-4f84-a47b-9d2befaee8db",
   "metadata": {},
   "source": [
    "#### Util 1: Loading the data and file path resolution\n"
   ]
  },
  {
   "cell_type": "code",
   "execution_count": 140,
   "id": "71650a0d-a912-499e-9d70-29adfb556e04",
   "metadata": {},
   "outputs": [],
   "source": [
    "def load_risk_factor_data(risk_factor_name, risk_factor_data):\n",
    "    global file_path_reference, file_name_reference, file_path_static, file_name_static\n",
    "\n",
    "    if not risk_factor_data:\n",
    "        logging.info(f\"No data found for {risk_factor_name}\")\n",
    "        return None, None\n",
    "\n",
    "    reference_tables = []\n",
    "    for table in risk_factor_data[\"reference\"][\"tables\"]:\n",
    "        reference_tables.append(\n",
    "            pd.read_excel(\n",
    "                file_path_reference + file_name_reference,\n",
    "                sheet_name=risk_factor_data[\"reference\"][\"sheet_name\"],\n",
    "                skiprows=table[\"skiprows\"],\n",
    "                nrows=table.get(\"nrows\"),\n",
    "                usecols=table.get(\"usecols\"),\n",
    "            )\n",
    "        )\n",
    "\n",
    "    static_tables = []\n",
    "    for table in risk_factor_data[\"static\"][\"tables\"]:\n",
    "        static_tables.append(\n",
    "            pd.read_excel(\n",
    "                file_path_static + file_name_static,\n",
    "                sheet_name=risk_factor_data[\"static\"][\"sheet_name\"],\n",
    "                skiprows=table[\"skiprows\"],\n",
    "                nrows=table.get(\"nrows\"),\n",
    "                usecols=table.get(\"usecols\"),\n",
    "            )\n",
    "        )\n",
    "\n",
    "    return reference_tables, static_tables\n"
   ]
  },
  {
   "attachments": {},
   "cell_type": "markdown",
   "id": "89e64a62-8c3c-4266-938e-b9c8865d6715",
   "metadata": {},
   "source": [
    "#### Util 2 : Lookup & Process only Inscope Risk Factors\n"
   ]
  },
  {
   "cell_type": "code",
   "execution_count": 141,
   "id": "5d20555d-77c7-42d8-ae85-0f78774da08d",
   "metadata": {},
   "outputs": [],
   "source": [
    "def load_lookup_data(lookup_file_path, lookup_sheet_name):\n",
    "    lookup_df = pd.read_excel(lookup_file_path, sheet_name=lookup_sheet_name)\n",
    "    return lookup_df\n",
    "\n",
    "\n",
    "def process_risk_factors(lookup_df, risk_factor_functions):\n",
    "    final_risk_factor_result_dict = {}  # Initialize the dictionary\n",
    "\n",
    "    for index, row in lookup_df.iterrows():\n",
    "        risk_factor_name = row[\"Risk Factor Name\"]\n",
    "        run_flag = row[\"In Scope (Y/N)\"]\n",
    "\n",
    "        if run_flag == \"Y\":\n",
    "            current_scoring_function = risk_factor_functions.get(risk_factor_name)\n",
    "            if current_scoring_function:\n",
    "                current_risk_factor_result_df = current_scoring_function()\n",
    "                final_risk_factor_result_dict[risk_factor_name] = (\n",
    "                    current_risk_factor_result_df  # Store DataFrame in dict by name\n",
    "                )\n",
    "            else:\n",
    "                logging.info(f\"No scoring function found for {risk_factor_name}\")\n",
    "\n",
    "    return final_risk_factor_result_dict  # Return the dictionary\n"
   ]
  },
  {
   "cell_type": "markdown",
   "id": "c353d20e-039b-4327-8e43-4a0fcd70964c",
   "metadata": {},
   "source": [
    "#### Util 3 : Final Dataframe Creation (EXCEL/CSV)\n"
   ]
  },
  {
   "cell_type": "code",
   "execution_count": 142,
   "id": "b222addc-e493-4a5e-af43-a47102ce8f99",
   "metadata": {},
   "outputs": [],
   "source": [
    "def create_final_df(risk_factor_name, df_to_transform):\n",
    "    def transform_score_value(row):\n",
    "        if row[\"IS_ACTIVE\"] == 1:\n",
    "            if row[\"PARTY_TYPE_CD\"] == \"P\":\n",
    "                return \"Active Individual\"\n",
    "            elif row[\"PARTY_TYPE_CD\"] == \"B\":\n",
    "                return \"Active Business\"\n",
    "            else:  # Handle other potential PARTY_TYPE_CD values\n",
    "                return \"Active (Unknown Type)\"\n",
    "        else:\n",
    "            return \"Customer Inactive\"\n",
    "\n",
    "    final_df = pd.DataFrame(\n",
    "        {\n",
    "            \"PARTY_KEY\": df_to_transform[\"PARTY_KEY\"],\n",
    "            \"RISK_SEGMENT\": df_to_transform[\"RISK_SEGMENT\"],\n",
    "            \"Score_Value\": df_to_transform.apply(transform_score_value, axis=1),\n",
    "            \"Risk_Factor\": risk_factor_name,\n",
    "            \"Score\": df_to_transform[\"SCORE\"],\n",
    "        }\n",
    "    )\n",
    "\n",
    "    return final_df\n"
   ]
  },
  {
   "cell_type": "markdown",
   "id": "1dfbf54d-ef5e-49b5-826c-823ba653dae9",
   "metadata": {},
   "source": [
    "## Risk Factor Implementations 🐨\n"
   ]
  },
  {
   "cell_type": "markdown",
   "id": "db9bcb31-ead1-4a3f-b6a8-ae2f8d4b5b37",
   "metadata": {},
   "source": [
    "#### Replication 1: Enhanced PEP Risk Factor\n"
   ]
  },
  {
   "cell_type": "code",
   "execution_count": null,
   "id": "27ff1896-2a3c-4b14-bfdc-b9b486c9fa0c",
   "metadata": {},
   "outputs": [],
   "source": []
  },
  {
   "cell_type": "markdown",
   "id": "34a7a09c-f9c9-46ce-a20a-ed7f667d9293",
   "metadata": {},
   "source": [
    "#### Replication 2: Customer Under SubPoena Risk Factor\n"
   ]
  },
  {
   "cell_type": "code",
   "execution_count": 143,
   "id": "fa922a77-5392-4338-8303-655e2e9a914c",
   "metadata": {},
   "outputs": [],
   "source": [
    "def customer_under_subpoena_rf():\n",
    "\n",
    "    # TODO: Load Data for subPoena using global/ functional input\n",
    "\n",
    "    customer_under_subpoena_tables = {\n",
    "        \"reference\": {\n",
    "            \"sheet_name\": \"Cust Under Subp RF - Reference\",\n",
    "            \"tables\": [{\"skiprows\": 1, \"nrows\": None, \"usecols\": [0, 1, 2]}],\n",
    "        },\n",
    "        \"static\": {\n",
    "            \"sheet_name\": \"Cust Under Subp RF - Static\",\n",
    "            \"tables\": [{\"skiprows\": 1, \"nrows\": None, \"usecols\": [0, 1, 2, 3, 4]}],\n",
    "        },\n",
    "    }\n",
    "\n",
    "    reference_tables, static_tables = load_risk_factor_data(\n",
    "        \"Customer Under Subpoena\", customer_under_subpoena_tables\n",
    "    )\n",
    "\n",
    "    reference_df, static_df = reference_tables[0], static_tables[0]\n",
    "\n",
    "    def calculate_score(row):\n",
    "\n",
    "        num_subpoena = row[\"NUMBER_OF_SUBPOENA\"]\n",
    "\n",
    "        if row[\"IS_ACTIVE\"] == 0:\n",
    "            return 0\n",
    "\n",
    "        if num_subpoena <= 1:\n",
    "            score_range = 0\n",
    "        elif num_subpoena <= 4:\n",
    "            score_range = 2\n",
    "        else:\n",
    "            score_range = 5\n",
    "\n",
    "        default_none_values = {0: 0, 2: 5, 5: 3}\n",
    "        default_value = default_none_values.get(score_range)\n",
    "\n",
    "        risk_segment = row[\"RISK_SEGMENT\"]\n",
    "        score_row = reference_df[\n",
    "            (reference_df[\"NUMBER_OF_SUBPOENA\"] == score_range)\n",
    "            & (reference_df[\"RISK_SEGMENT\"] == risk_segment)\n",
    "        ]\n",
    "\n",
    "        if score_row.empty:\n",
    "            return default_value\n",
    "\n",
    "        score_row[\"SCORE\"].iloc[0]\n",
    "        # Output the final dataframe with all required columns\n",
    "        return score_row[\"SCORE\"].iloc[0]\n",
    "\n",
    "    static_df[\"SCORE\"] = static_df.apply(calculate_score, axis=1)\n",
    "    customer_under_subpoena_org_static_data = static_df\n",
    "\n",
    "    risk_factor_name = \"Customer Under SubPoena\"\n",
    "    final_df_customer_under_subpoena = create_final_df(\n",
    "        risk_factor_name, customer_under_subpoena_org_static_data\n",
    "    )\n",
    "    return final_df_customer_under_subpoena\n"
   ]
  },
  {
   "cell_type": "markdown",
   "id": "d6f542d6-7595-4672-b487-db0dda9b6089",
   "metadata": {},
   "source": [
    "## Risk Factor Engine : Main Execution 🐢\n"
   ]
  },
  {
   "cell_type": "code",
   "execution_count": 144,
   "id": "9a88b3ea-d598-4e3f-9cc0-ae468fb5ccaa",
   "metadata": {},
   "outputs": [],
   "source": [
    "def main():\n",
    "\n",
    "    global lookup_file_path, lookup_sheet_name\n",
    "\n",
    "    lookup_df = load_lookup_data(lookup_file_path, lookup_sheet_name)\n",
    "\n",
    "    risk_factor_functions = {\n",
    "        \"Customer Under Subpoena\": customer_under_subpoena_rf,\n",
    "        \"Enhanced PEP\": enhanced_pep_rf,\n",
    "        # ... Add mappings for your other risk factors\n",
    "    }\n",
    "\n",
    "    final_risk_factor_result_dict = process_risk_factors(\n",
    "        lookup_df, risk_factor_functions\n",
    "    )\n",
    "\n",
    "    # Sample usage to access the final DataFrame for a specific risk factor\n",
    "    # risk_factor_name = \"Customer Under Subpoena\"\n",
    "    # final_df = final_risk_factor_result_dict.get(risk_factor_name)\n",
    "    # print(final_df)\n"
   ]
  },
  {
   "cell_type": "markdown",
   "id": "30ff1fa4-8386-4088-b910-60323f74b4f8",
   "metadata": {},
   "source": [
    "## Run Main Function 🐰\n"
   ]
  },
  {
   "cell_type": "code",
   "execution_count": 145,
   "id": "2d6100b6-2f30-4ee9-8f70-b1b8f61b5c56",
   "metadata": {},
   "outputs": [
    {
     "ename": "NameError",
     "evalue": "name 'enhanced_pep_rf' is not defined",
     "output_type": "error",
     "traceback": [
      "\u001b[1;31m---------------------------------------------------------------------------\u001b[0m",
      "\u001b[1;31mNameError\u001b[0m                                 Traceback (most recent call last)",
      "Cell \u001b[1;32mIn[145], line 2\u001b[0m\n\u001b[0;32m      1\u001b[0m \u001b[38;5;28;01mif\u001b[39;00m \u001b[38;5;18m__name__\u001b[39m \u001b[38;5;241m==\u001b[39m \u001b[38;5;124m\"\u001b[39m\u001b[38;5;124m__main__\u001b[39m\u001b[38;5;124m\"\u001b[39m:\n\u001b[1;32m----> 2\u001b[0m     main()\n",
      "Cell \u001b[1;32mIn[144], line 9\u001b[0m, in \u001b[0;36mmain\u001b[1;34m()\u001b[0m\n\u001b[0;32m      3\u001b[0m \u001b[38;5;28;01mglobal\u001b[39;00m lookup_file_path, lookup_sheet_name\n\u001b[0;32m      5\u001b[0m lookup_df \u001b[38;5;241m=\u001b[39m load_lookup_data(lookup_file_path, lookup_sheet_name)\n\u001b[0;32m      7\u001b[0m risk_factor_functions \u001b[38;5;241m=\u001b[39m {\n\u001b[0;32m      8\u001b[0m     \u001b[38;5;124m\"\u001b[39m\u001b[38;5;124mCustomer Under Subpoena\u001b[39m\u001b[38;5;124m\"\u001b[39m: customer_under_subpoena_rf,\n\u001b[1;32m----> 9\u001b[0m     \u001b[38;5;124m\"\u001b[39m\u001b[38;5;124mEnhanced PEP\u001b[39m\u001b[38;5;124m\"\u001b[39m: enhanced_pep_rf,\n\u001b[0;32m     10\u001b[0m     \u001b[38;5;66;03m# ... Add mappings for your other risk factors\u001b[39;00m\n\u001b[0;32m     11\u001b[0m }\n\u001b[0;32m     13\u001b[0m final_risk_factor_result_dict \u001b[38;5;241m=\u001b[39m process_risk_factors(\n\u001b[0;32m     14\u001b[0m     lookup_df, risk_factor_functions\n\u001b[0;32m     15\u001b[0m )\n",
      "\u001b[1;31mNameError\u001b[0m: name 'enhanced_pep_rf' is not defined"
     ]
    }
   ],
   "source": [
    "if __name__ == \"__main__\":\n",
    "    main()\n"
   ]
  },
  {
   "cell_type": "markdown",
   "id": "dbc89469",
   "metadata": {},
   "source": [
    "## Test Engine\n"
   ]
  },
  {
   "cell_type": "markdown",
   "id": "02ca3626",
   "metadata": {},
   "source": [
    "1. Test the lookup inscope function whether it is process the correct risk factors or not\n",
    "   - create a hardcoded list with entries of Y | N so accordingly verify using test cases\n",
    "     - Only 1 risk factor is processed\n",
    "     - Only 2 risk factors are processed\n",
    "     - All risk factors are processed\n",
    "2.\n"
   ]
  },
  {
   "cell_type": "markdown",
   "id": "cd4b4240",
   "metadata": {},
   "source": []
  }
 ],
 "metadata": {
  "kernelspec": {
   "display_name": "Python 3 (ipykernel)",
   "language": "python",
   "name": "python3"
  },
  "language_info": {
   "codemirror_mode": {
    "name": "ipython",
    "version": 3
   },
   "file_extension": ".py",
   "mimetype": "text/x-python",
   "name": "python",
   "nbconvert_exporter": "python",
   "pygments_lexer": "ipython3",
   "version": "3.11.7"
  }
 },
 "nbformat": 4,
 "nbformat_minor": 5
}
