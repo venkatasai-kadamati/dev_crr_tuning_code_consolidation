{
 "cells": [
  {
   "cell_type": "markdown",
   "id": "c3cecda9-0313-47bd-b780-31479785d406",
   "metadata": {},
   "source": [
    "# Notebook Outline 🐳\n",
    "\n",
    "- **Notebook**: Consolidated Codebase of all Replicated Risk factors (16)\n",
    "- **Replicated Risk Factors**:\n",
    "  > Replicated 11 Risk Factors\n",
    "  - Customer Under SubPoena\n",
    "  - Enhanced PEP\n",
    "- **Data Used**:\n",
    "  - Static Excel File: Risk Factors - Static Data.xlsx\n",
    "  - Reference Excel File: Risk Factors - Reference Data.xlsx\n"
   ]
  },
  {
   "cell_type": "markdown",
   "id": "bc0483d6-0016-42ce-af2d-9b22bf1d308d",
   "metadata": {},
   "source": [
    "## Import Libraries and Definitions\n"
   ]
  },
  {
   "cell_type": "code",
   "execution_count": 1,
   "id": "3cbfe8c3-be12-4baa-b1b8-26e05da9806a",
   "metadata": {},
   "outputs": [],
   "source": [
    "import pandas as pd\n",
    "import numpy as np\n",
    "import os\n",
    "import logging"
   ]
  },
  {
   "cell_type": "markdown",
   "id": "4f41c7b6-083a-4d10-965d-1597d0fb2e88",
   "metadata": {},
   "source": [
    "## Global Declarations (File Paths)\n"
   ]
  },
  {
   "cell_type": "code",
   "execution_count": 2,
   "id": "9ae23481-86b5-4432-8243-69375deab3c5",
   "metadata": {},
   "outputs": [],
   "source": [
    "# File path and sheet for In-scope lookup data\n",
    "lookup_file_path = r\"C:/Users/KadamatiV/Desktop/CRR TUNING CODE CONSOLIDATION/Data/Risk Factors - Reference Data.xlsx\"\n",
    "lookup_sheet_name = 'In scope Risk Factors'\n",
    "\n",
    "\n",
    "# File path for reference and static data\n",
    "file_path_reference=r\"C:/Users/KadamatiV/Desktop/CRR TUNING CODE CONSOLIDATION/Data/\"\n",
    "file_name_reference=r\"Risk Factors - Reference Data.xlsx\"\n",
    "\n",
    "file_path_static=r\"C:/Users/KadamatiV/Desktop/CRR TUNING CODE CONSOLIDATION/Data/\"\n",
    "file_name_static=r\"Risk Factors - Static Data.xlsx\"\n",
    "\n"
   ]
  },
  {
   "cell_type": "markdown",
   "id": "40474518-37c9-43c4-8d71-66b886bc50d0",
   "metadata": {},
   "source": [
    "## Utility Functions 🐎\n"
   ]
  },
  {
   "cell_type": "markdown",
   "id": "61f4be1f-fce9-4f84-a47b-9d2befaee8db",
   "metadata": {},
   "source": [
    "#### Util 1: Loading the data and file path resolution\n"
   ]
  },
  {
   "cell_type": "code",
   "execution_count": 3,
   "id": "71650a0d-a912-499e-9d70-29adfb556e04",
   "metadata": {},
   "outputs": [],
   "source": [
    "def load_risk_factor_data(risk_factor_name, risk_factor_data):\n",
    "    global file_path_reference, file_name_reference, file_path_static, file_name_static\n",
    "\n",
    "    if not risk_factor_data:\n",
    "        logging.warning(f\"No data found for {risk_factor_name}\")\n",
    "        return None, None\n",
    "\n",
    "    reference_tables = []\n",
    "    for table in risk_factor_data['reference']['tables']:\n",
    "        reference_tables.append(\n",
    "            pd.read_excel(\n",
    "                file_path_reference + file_name_reference,\n",
    "                sheet_name=risk_factor_data['reference']['sheet_name'],\n",
    "                skiprows=table['skiprows'],\n",
    "                nrows=table.get('nrows'),\n",
    "                usecols=table.get('usecols')\n",
    "            )\n",
    "        )\n",
    "\n",
    "    static_tables = []\n",
    "    for table in risk_factor_data['static']['tables']:\n",
    "        static_tables.append(\n",
    "            pd.read_excel(\n",
    "                file_path_static + file_name_static,\n",
    "                sheet_name=risk_factor_data['static']['sheet_name'],\n",
    "                skiprows=table['skiprows'],\n",
    "                nrows=table.get('nrows'),\n",
    "                usecols=table.get('usecols')\n",
    "            )\n",
    "        )\n",
    "\n",
    "    return reference_tables, static_tables\n"
   ]
  },
  {
   "attachments": {},
   "cell_type": "markdown",
   "id": "89e64a62-8c3c-4266-938e-b9c8865d6715",
   "metadata": {},
   "source": [
    "#### Util 4 : Lookup & Process only Inscope Risk Factors\n"
   ]
  },
  {
   "cell_type": "code",
   "execution_count": 4,
   "id": "5d20555d-77c7-42d8-ae85-0f78774da08d",
   "metadata": {},
   "outputs": [],
   "source": [
    "def load_lookup_data(lookup_file_path, lookup_sheet_name):\n",
    "    lookup_df = pd.read_excel(lookup_file_path, sheet_name=lookup_sheet_name)\n",
    "    print(lookup_df)\n",
    "    return lookup_df\n",
    "\n",
    "def process_risk_factors(lookup_df, risk_factor_functions):\n",
    "    final_risk_factor_result_dict = {}  # Initialize the dictionary\n",
    "\n",
    "    for index, row in lookup_df.iterrows():\n",
    "        risk_factor_name = row['Risk Factor Name']\n",
    "        run_flag = row['In Scope (Y/N)']\n",
    "\n",
    "        if run_flag == 'Y':\n",
    "            current_scoring_function = risk_factor_functions.get(risk_factor_name)\n",
    "            if current_scoring_function:\n",
    "                current_risk_factor_result_df = current_scoring_function()\n",
    "                final_risk_factor_result_dict[risk_factor_name] = current_risk_factor_result_df # Store DataFrame in dict by name\n",
    "            else:\n",
    "                logging.warning(f\"No scoring function found for {risk_factor_name}\")\n",
    "\n",
    "    return final_risk_factor_result_dict  # Return the dictionary"
   ]
  },
  {
   "cell_type": "markdown",
   "id": "c353d20e-039b-4327-8e43-4a0fcd70964c",
   "metadata": {},
   "source": [
    "#### Util 5 : Final Dataframe Creation (EXCEL/CSV)\n"
   ]
  },
  {
   "cell_type": "code",
   "execution_count": 5,
   "id": "b222addc-e493-4a5e-af43-a47102ce8f99",
   "metadata": {},
   "outputs": [],
   "source": [
    "\n",
    "def create_final_df(risk_factor_name, df_to_transform):\n",
    "    def transform_score_value(row):\n",
    "        if row['IS_ACTIVE'] == 1:\n",
    "            if row['PARTY_TYPE_CD'] == 'P':\n",
    "                return 'Active Individual'\n",
    "            elif row['PARTY_TYPE_CD'] == 'B':\n",
    "                return 'Active Business'\n",
    "            else:  # Handle other potential PARTY_TYPE_CD values\n",
    "                return 'Active (Unknown Type)'\n",
    "        else:\n",
    "            return 'Customer Inactive'\n",
    "\n",
    "\n",
    "    final_df= pd.DataFrame({\n",
    "        'PARTY_KEY': df_to_transform['PARTY_KEY'],\n",
    "        'RISK_SEGMENT': df_to_transform['RISK_SEGMENT'],\n",
    "        'Score_Value': df_to_transform.apply(transform_score_value, axis=1),\n",
    "        'Risk_Factor': risk_factor_name,\n",
    "        'Score': df_to_transform['RF_SCORE']\n",
    "    })\n",
    "\n",
    "    return final_df\n",
    "\n",
    "# # Sample usage\n",
    "# risk_factor_1 = \"Enhanced PEP\"\n",
    "# risk_factor_2 = \"Politically Exposed Person\"\n",
    "# # ... other risk factors\n",
    "\n",
    "# final_df_1 = create_final_df(risk_factor_1, party_data, result_df_1)\n",
    "# final_df_2 = create_final_df(risk_factor_2, party_data, result_df_2)\n",
    "# # ... other final DataFrames for each risk factor\n"
   ]
  },
  {
   "cell_type": "markdown",
   "id": "1dfbf54d-ef5e-49b5-826c-823ba653dae9",
   "metadata": {},
   "source": [
    "## Risk Factor Implementations 🐨\n"
   ]
  },
  {
   "cell_type": "markdown",
   "id": "db9bcb31-ead1-4a3f-b6a8-ae2f8d4b5b37",
   "metadata": {},
   "source": [
    "#### Implementation 1: Enhanced PEP Risk Factor\n"
   ]
  },
  {
   "cell_type": "code",
   "execution_count": null,
   "id": "27ff1896-2a3c-4b14-bfdc-b9b486c9fa0c",
   "metadata": {},
   "outputs": [],
   "source": []
  },
  {
   "cell_type": "markdown",
   "id": "34a7a09c-f9c9-46ce-a20a-ed7f667d9293",
   "metadata": {},
   "source": [
    "#### Implementation 2: Customer Under SubPoena Risk Factor\n"
   ]
  },
  {
   "cell_type": "code",
   "execution_count": 6,
   "id": "fa922a77-5392-4338-8303-655e2e9a914c",
   "metadata": {},
   "outputs": [],
   "source": [
    "def customer_under_subpoena_rf():\n",
    "\n",
    "    # TODO: Load Data for subPoena using global/ functional input\n",
    "    \n",
    "    customer_under_subpoena_tables = {\n",
    "        'reference': {\n",
    "            'sheet_name': 'Cust Under Subp RF - Reference',\n",
    "            'tables': [\n",
    "                {'skiprows': 0, 'nrows': None, 'usecols': [0, 1, 2]}\n",
    "            ]\n",
    "        },\n",
    "        'static': {\n",
    "            'sheet_name': 'Cust Under Subp RF - Static',\n",
    "            'tables': [\n",
    "                {'skiprows': 0, 'nrows': None, 'usecols': [0, 1, 2, 3, 4]}\n",
    "            ]\n",
    "        }\n",
    "    }\n",
    "    \n",
    "    reference_tables, static_tables = load_risk_factor_data('Customer Under Subpoena', customer_under_subpoena_tables)\n",
    "    \n",
    "    reference_df, static_df=reference_tables[0], static_tables[0]\n",
    "\n",
    "    def calculate_score(row):\n",
    "        \n",
    "        num_subpoena = row['NUMBER_OF_SUBPOENA']\n",
    "    \n",
    "        if row['IS_ACTIVE'] == 0:\n",
    "            return 0\n",
    "    \n",
    "        if num_subpoena <= 1:\n",
    "            score_range = 0\n",
    "        elif num_subpoena <= 4:\n",
    "            score_range = 2\n",
    "        else:\n",
    "            score_range = 5\n",
    "    \n",
    "        default_none_values = {0: 0, 2: 5, 5: 3}\n",
    "        default_value = default_none_values.get(score_range)\n",
    "    \n",
    "        risk_segment = row['RISK_SEGMENT']\n",
    "        score_row = reference_df[(reference_df['NUMBER_OF_SUBPOENA'] == score_range) & \n",
    "                                 (reference_df['RISK_SEGMENT'] == risk_segment)]\n",
    "    \n",
    "        if score_row.empty:  \n",
    "            return default_value  \n",
    "    \n",
    "        score_row['SCORE'].iloc[0]  \n",
    "        # Output the final dataframe with all required columns\n",
    "        return score_row['SCORE'].iloc[0]\n",
    "\n",
    "    static_df['SCORE'] = static_df.apply(calculate_score, axis=1)\n",
    "    temp_static_df = static_df\n",
    "    risk_factor_name = \"Customer Under SubPoena\"\n",
    "    final_df_customer_under_subpoena = create_final_df(risk_factor_name, temp_static_df)\n",
    "    return final_df_customer_under_subpoena"
   ]
  },
  {
   "cell_type": "markdown",
   "id": "d6f542d6-7595-4672-b487-db0dda9b6089",
   "metadata": {},
   "source": [
    "## Risk Factor Engine : Main Execution\n"
   ]
  },
  {
   "cell_type": "code",
   "execution_count": 7,
   "id": "9a88b3ea-d598-4e3f-9cc0-ae468fb5ccaa",
   "metadata": {},
   "outputs": [],
   "source": [
    "def main():\n",
    "    # TODO : Change this later such that dynamic entry or global entry is made regarding lookup file path & sheet name\n",
    "    \n",
    "    global lookup_file_path, lookup_sheet_name\n",
    "\n",
    "    \n",
    "    lookup_df = load_lookup_data(lookup_file_path, lookup_sheet_name)\n",
    "\n",
    "    risk_factor_functions = {\n",
    "        'Customer Under Subpoena': customer_under_subpoena_rf,\n",
    "        # 'Enhanced PEP': enhanced_pep_rf,\n",
    "        # ... Add mappings for your other risk factors\n",
    "    }\n",
    "\n",
    "    process_risk_factors(lookup_df, risk_factor_functions)"
   ]
  },
  {
   "cell_type": "markdown",
   "id": "30ff1fa4-8386-4088-b910-60323f74b4f8",
   "metadata": {},
   "source": [
    "## Run Main Function\n"
   ]
  },
  {
   "cell_type": "code",
   "execution_count": 8,
   "id": "2d6100b6-2f30-4ee9-8f70-b1b8f61b5c56",
   "metadata": {},
   "outputs": [
    {
     "name": "stderr",
     "output_type": "stream",
     "text": [
      "WARNING:root:No scoring function found for Account Type\n",
      "WARNING:root:No scoring function found for Address In High Risk Geography\n",
      "WARNING:root:No scoring function found for Channel OF Account Opening\n"
     ]
    },
    {
     "name": "stdout",
     "output_type": "stream",
     "text": [
      "                    Risk Factor Name In Scope (Y/N)\n",
      "0                       Account Type              Y\n",
      "1     Address In High Risk Geography              Y\n",
      "2         Channel OF Account Opening              Y\n",
      "3            Customer Under Subpoena              Y\n",
      "4                 Foreign Individual              Y\n",
      "5                 High Risk Business              Y\n",
      "6                            Country              Y\n",
      "7                   Client With SARs              Y\n",
      "8                         Occupation              Y\n",
      "9                 Political Exposure              Y\n",
      "10                      Enhanced PEP              Y\n",
      "11  Relationship To High Risk Entity              Y\n",
      "12                      Service Type              Y\n",
      "13       Transaction Actual Activity              Y\n",
      "14     Transaction Expected Activity              Y\n"
     ]
    },
    {
     "ename": "KeyError",
     "evalue": "'NUMBER_OF_SUBPOENA'",
     "output_type": "error",
     "traceback": [
      "\u001b[1;31m---------------------------------------------------------------------------\u001b[0m",
      "\u001b[1;31mKeyError\u001b[0m                                  Traceback (most recent call last)",
      "File \u001b[1;32m~\\AppData\\Local\\anaconda3\\Lib\\site-packages\\pandas\\core\\indexes\\base.py:3791\u001b[0m, in \u001b[0;36mIndex.get_loc\u001b[1;34m(self, key)\u001b[0m\n\u001b[0;32m   3790\u001b[0m \u001b[38;5;28;01mtry\u001b[39;00m:\n\u001b[1;32m-> 3791\u001b[0m     \u001b[38;5;28;01mreturn\u001b[39;00m \u001b[38;5;28mself\u001b[39m\u001b[38;5;241m.\u001b[39m_engine\u001b[38;5;241m.\u001b[39mget_loc(casted_key)\n\u001b[0;32m   3792\u001b[0m \u001b[38;5;28;01mexcept\u001b[39;00m \u001b[38;5;167;01mKeyError\u001b[39;00m \u001b[38;5;28;01mas\u001b[39;00m err:\n",
      "File \u001b[1;32mindex.pyx:152\u001b[0m, in \u001b[0;36mpandas._libs.index.IndexEngine.get_loc\u001b[1;34m()\u001b[0m\n",
      "File \u001b[1;32mindex.pyx:181\u001b[0m, in \u001b[0;36mpandas._libs.index.IndexEngine.get_loc\u001b[1;34m()\u001b[0m\n",
      "File \u001b[1;32mpandas\\_libs\\hashtable_class_helper.pxi:7080\u001b[0m, in \u001b[0;36mpandas._libs.hashtable.PyObjectHashTable.get_item\u001b[1;34m()\u001b[0m\n",
      "File \u001b[1;32mpandas\\_libs\\hashtable_class_helper.pxi:7088\u001b[0m, in \u001b[0;36mpandas._libs.hashtable.PyObjectHashTable.get_item\u001b[1;34m()\u001b[0m\n",
      "\u001b[1;31mKeyError\u001b[0m: 'NUMBER_OF_SUBPOENA'",
      "\nThe above exception was the direct cause of the following exception:\n",
      "\u001b[1;31mKeyError\u001b[0m                                  Traceback (most recent call last)",
      "Cell \u001b[1;32mIn[8], line 2\u001b[0m\n\u001b[0;32m      1\u001b[0m \u001b[38;5;28;01mif\u001b[39;00m \u001b[38;5;18m__name__\u001b[39m \u001b[38;5;241m==\u001b[39m \u001b[38;5;124m\"\u001b[39m\u001b[38;5;124m__main__\u001b[39m\u001b[38;5;124m\"\u001b[39m:\n\u001b[1;32m----> 2\u001b[0m     main()\n",
      "Cell \u001b[1;32mIn[7], line 15\u001b[0m, in \u001b[0;36mmain\u001b[1;34m()\u001b[0m\n\u001b[0;32m      7\u001b[0m lookup_df \u001b[38;5;241m=\u001b[39m load_lookup_data(lookup_file_path, lookup_sheet_name)\n\u001b[0;32m      9\u001b[0m risk_factor_functions \u001b[38;5;241m=\u001b[39m {\n\u001b[0;32m     10\u001b[0m     \u001b[38;5;124m'\u001b[39m\u001b[38;5;124mCustomer Under Subpoena\u001b[39m\u001b[38;5;124m'\u001b[39m: customer_under_subpoena_rf,\n\u001b[0;32m     11\u001b[0m     \u001b[38;5;66;03m# 'Enhanced PEP': enhanced_pep_rf,\u001b[39;00m\n\u001b[0;32m     12\u001b[0m     \u001b[38;5;66;03m# ... Add mappings for your other risk factors\u001b[39;00m\n\u001b[0;32m     13\u001b[0m }\n\u001b[1;32m---> 15\u001b[0m process_risk_factors(lookup_df, risk_factor_functions)\n",
      "Cell \u001b[1;32mIn[4], line 16\u001b[0m, in \u001b[0;36mprocess_risk_factors\u001b[1;34m(lookup_df, risk_factor_functions)\u001b[0m\n\u001b[0;32m     14\u001b[0m current_scoring_function \u001b[38;5;241m=\u001b[39m risk_factor_functions\u001b[38;5;241m.\u001b[39mget(risk_factor_name)\n\u001b[0;32m     15\u001b[0m \u001b[38;5;28;01mif\u001b[39;00m current_scoring_function:\n\u001b[1;32m---> 16\u001b[0m     current_risk_factor_result_df \u001b[38;5;241m=\u001b[39m current_scoring_function()\n\u001b[0;32m     17\u001b[0m     final_risk_factor_result_dict[risk_factor_name] \u001b[38;5;241m=\u001b[39m current_risk_factor_result_df \u001b[38;5;66;03m# Store DataFrame in dict by name\u001b[39;00m\n\u001b[0;32m     18\u001b[0m \u001b[38;5;28;01melse\u001b[39;00m:\n",
      "Cell \u001b[1;32mIn[6], line 52\u001b[0m, in \u001b[0;36mcustomer_under_subpoena_rf\u001b[1;34m()\u001b[0m\n\u001b[0;32m     49\u001b[0m     \u001b[38;5;66;03m# Output the final dataframe with all required columns\u001b[39;00m\n\u001b[0;32m     50\u001b[0m     \u001b[38;5;28;01mreturn\u001b[39;00m score_row[\u001b[38;5;124m'\u001b[39m\u001b[38;5;124mSCORE\u001b[39m\u001b[38;5;124m'\u001b[39m]\u001b[38;5;241m.\u001b[39miloc[\u001b[38;5;241m0\u001b[39m]\n\u001b[1;32m---> 52\u001b[0m static_df[\u001b[38;5;124m'\u001b[39m\u001b[38;5;124mSCORE\u001b[39m\u001b[38;5;124m'\u001b[39m] \u001b[38;5;241m=\u001b[39m static_df\u001b[38;5;241m.\u001b[39mapply(calculate_score, axis\u001b[38;5;241m=\u001b[39m\u001b[38;5;241m1\u001b[39m)\n\u001b[0;32m     53\u001b[0m temp_static_df \u001b[38;5;241m=\u001b[39m static_df\n\u001b[0;32m     54\u001b[0m risk_factor_name \u001b[38;5;241m=\u001b[39m \u001b[38;5;124m\"\u001b[39m\u001b[38;5;124mCustomer Under SubPoena\u001b[39m\u001b[38;5;124m\"\u001b[39m\n",
      "File \u001b[1;32m~\\AppData\\Local\\anaconda3\\Lib\\site-packages\\pandas\\core\\frame.py:10034\u001b[0m, in \u001b[0;36mDataFrame.apply\u001b[1;34m(self, func, axis, raw, result_type, args, by_row, **kwargs)\u001b[0m\n\u001b[0;32m  10022\u001b[0m \u001b[38;5;28;01mfrom\u001b[39;00m \u001b[38;5;21;01mpandas\u001b[39;00m\u001b[38;5;21;01m.\u001b[39;00m\u001b[38;5;21;01mcore\u001b[39;00m\u001b[38;5;21;01m.\u001b[39;00m\u001b[38;5;21;01mapply\u001b[39;00m \u001b[38;5;28;01mimport\u001b[39;00m frame_apply\n\u001b[0;32m  10024\u001b[0m op \u001b[38;5;241m=\u001b[39m frame_apply(\n\u001b[0;32m  10025\u001b[0m     \u001b[38;5;28mself\u001b[39m,\n\u001b[0;32m  10026\u001b[0m     func\u001b[38;5;241m=\u001b[39mfunc,\n\u001b[1;32m   (...)\u001b[0m\n\u001b[0;32m  10032\u001b[0m     kwargs\u001b[38;5;241m=\u001b[39mkwargs,\n\u001b[0;32m  10033\u001b[0m )\n\u001b[1;32m> 10034\u001b[0m \u001b[38;5;28;01mreturn\u001b[39;00m op\u001b[38;5;241m.\u001b[39mapply()\u001b[38;5;241m.\u001b[39m__finalize__(\u001b[38;5;28mself\u001b[39m, method\u001b[38;5;241m=\u001b[39m\u001b[38;5;124m\"\u001b[39m\u001b[38;5;124mapply\u001b[39m\u001b[38;5;124m\"\u001b[39m)\n",
      "File \u001b[1;32m~\\AppData\\Local\\anaconda3\\Lib\\site-packages\\pandas\\core\\apply.py:837\u001b[0m, in \u001b[0;36mFrameApply.apply\u001b[1;34m(self)\u001b[0m\n\u001b[0;32m    834\u001b[0m \u001b[38;5;28;01melif\u001b[39;00m \u001b[38;5;28mself\u001b[39m\u001b[38;5;241m.\u001b[39mraw:\n\u001b[0;32m    835\u001b[0m     \u001b[38;5;28;01mreturn\u001b[39;00m \u001b[38;5;28mself\u001b[39m\u001b[38;5;241m.\u001b[39mapply_raw()\n\u001b[1;32m--> 837\u001b[0m \u001b[38;5;28;01mreturn\u001b[39;00m \u001b[38;5;28mself\u001b[39m\u001b[38;5;241m.\u001b[39mapply_standard()\n",
      "File \u001b[1;32m~\\AppData\\Local\\anaconda3\\Lib\\site-packages\\pandas\\core\\apply.py:965\u001b[0m, in \u001b[0;36mFrameApply.apply_standard\u001b[1;34m(self)\u001b[0m\n\u001b[0;32m    964\u001b[0m \u001b[38;5;28;01mdef\u001b[39;00m \u001b[38;5;21mapply_standard\u001b[39m(\u001b[38;5;28mself\u001b[39m):\n\u001b[1;32m--> 965\u001b[0m     results, res_index \u001b[38;5;241m=\u001b[39m \u001b[38;5;28mself\u001b[39m\u001b[38;5;241m.\u001b[39mapply_series_generator()\n\u001b[0;32m    967\u001b[0m     \u001b[38;5;66;03m# wrap results\u001b[39;00m\n\u001b[0;32m    968\u001b[0m     \u001b[38;5;28;01mreturn\u001b[39;00m \u001b[38;5;28mself\u001b[39m\u001b[38;5;241m.\u001b[39mwrap_results(results, res_index)\n",
      "File \u001b[1;32m~\\AppData\\Local\\anaconda3\\Lib\\site-packages\\pandas\\core\\apply.py:981\u001b[0m, in \u001b[0;36mFrameApply.apply_series_generator\u001b[1;34m(self)\u001b[0m\n\u001b[0;32m    978\u001b[0m \u001b[38;5;28;01mwith\u001b[39;00m option_context(\u001b[38;5;124m\"\u001b[39m\u001b[38;5;124mmode.chained_assignment\u001b[39m\u001b[38;5;124m\"\u001b[39m, \u001b[38;5;28;01mNone\u001b[39;00m):\n\u001b[0;32m    979\u001b[0m     \u001b[38;5;28;01mfor\u001b[39;00m i, v \u001b[38;5;129;01min\u001b[39;00m \u001b[38;5;28menumerate\u001b[39m(series_gen):\n\u001b[0;32m    980\u001b[0m         \u001b[38;5;66;03m# ignore SettingWithCopy here in case the user mutates\u001b[39;00m\n\u001b[1;32m--> 981\u001b[0m         results[i] \u001b[38;5;241m=\u001b[39m \u001b[38;5;28mself\u001b[39m\u001b[38;5;241m.\u001b[39mfunc(v, \u001b[38;5;241m*\u001b[39m\u001b[38;5;28mself\u001b[39m\u001b[38;5;241m.\u001b[39margs, \u001b[38;5;241m*\u001b[39m\u001b[38;5;241m*\u001b[39m\u001b[38;5;28mself\u001b[39m\u001b[38;5;241m.\u001b[39mkwargs)\n\u001b[0;32m    982\u001b[0m         \u001b[38;5;28;01mif\u001b[39;00m \u001b[38;5;28misinstance\u001b[39m(results[i], ABCSeries):\n\u001b[0;32m    983\u001b[0m             \u001b[38;5;66;03m# If we have a view on v, we need to make a copy because\u001b[39;00m\n\u001b[0;32m    984\u001b[0m             \u001b[38;5;66;03m#  series_generator will swap out the underlying data\u001b[39;00m\n\u001b[0;32m    985\u001b[0m             results[i] \u001b[38;5;241m=\u001b[39m results[i]\u001b[38;5;241m.\u001b[39mcopy(deep\u001b[38;5;241m=\u001b[39m\u001b[38;5;28;01mFalse\u001b[39;00m)\n",
      "Cell \u001b[1;32mIn[6], line 26\u001b[0m, in \u001b[0;36mcustomer_under_subpoena_rf.<locals>.calculate_score\u001b[1;34m(row)\u001b[0m\n\u001b[0;32m     24\u001b[0m \u001b[38;5;28;01mdef\u001b[39;00m \u001b[38;5;21mcalculate_score\u001b[39m(row):\n\u001b[1;32m---> 26\u001b[0m     num_subpoena \u001b[38;5;241m=\u001b[39m row[\u001b[38;5;124m'\u001b[39m\u001b[38;5;124mNUMBER_OF_SUBPOENA\u001b[39m\u001b[38;5;124m'\u001b[39m]\n\u001b[0;32m     28\u001b[0m     \u001b[38;5;28;01mif\u001b[39;00m row[\u001b[38;5;124m'\u001b[39m\u001b[38;5;124mIS_ACTIVE\u001b[39m\u001b[38;5;124m'\u001b[39m] \u001b[38;5;241m==\u001b[39m \u001b[38;5;241m0\u001b[39m:\n\u001b[0;32m     29\u001b[0m         \u001b[38;5;28;01mreturn\u001b[39;00m \u001b[38;5;241m0\u001b[39m\n",
      "File \u001b[1;32m~\\AppData\\Local\\anaconda3\\Lib\\site-packages\\pandas\\core\\series.py:1040\u001b[0m, in \u001b[0;36mSeries.__getitem__\u001b[1;34m(self, key)\u001b[0m\n\u001b[0;32m   1037\u001b[0m     \u001b[38;5;28;01mreturn\u001b[39;00m \u001b[38;5;28mself\u001b[39m\u001b[38;5;241m.\u001b[39m_values[key]\n\u001b[0;32m   1039\u001b[0m \u001b[38;5;28;01melif\u001b[39;00m key_is_scalar:\n\u001b[1;32m-> 1040\u001b[0m     \u001b[38;5;28;01mreturn\u001b[39;00m \u001b[38;5;28mself\u001b[39m\u001b[38;5;241m.\u001b[39m_get_value(key)\n\u001b[0;32m   1042\u001b[0m \u001b[38;5;66;03m# Convert generator to list before going through hashable part\u001b[39;00m\n\u001b[0;32m   1043\u001b[0m \u001b[38;5;66;03m# (We will iterate through the generator there to check for slices)\u001b[39;00m\n\u001b[0;32m   1044\u001b[0m \u001b[38;5;28;01mif\u001b[39;00m is_iterator(key):\n",
      "File \u001b[1;32m~\\AppData\\Local\\anaconda3\\Lib\\site-packages\\pandas\\core\\series.py:1156\u001b[0m, in \u001b[0;36mSeries._get_value\u001b[1;34m(self, label, takeable)\u001b[0m\n\u001b[0;32m   1153\u001b[0m     \u001b[38;5;28;01mreturn\u001b[39;00m \u001b[38;5;28mself\u001b[39m\u001b[38;5;241m.\u001b[39m_values[label]\n\u001b[0;32m   1155\u001b[0m \u001b[38;5;66;03m# Similar to Index.get_value, but we do not fall back to positional\u001b[39;00m\n\u001b[1;32m-> 1156\u001b[0m loc \u001b[38;5;241m=\u001b[39m \u001b[38;5;28mself\u001b[39m\u001b[38;5;241m.\u001b[39mindex\u001b[38;5;241m.\u001b[39mget_loc(label)\n\u001b[0;32m   1158\u001b[0m \u001b[38;5;28;01mif\u001b[39;00m is_integer(loc):\n\u001b[0;32m   1159\u001b[0m     \u001b[38;5;28;01mreturn\u001b[39;00m \u001b[38;5;28mself\u001b[39m\u001b[38;5;241m.\u001b[39m_values[loc]\n",
      "File \u001b[1;32m~\\AppData\\Local\\anaconda3\\Lib\\site-packages\\pandas\\core\\indexes\\base.py:3798\u001b[0m, in \u001b[0;36mIndex.get_loc\u001b[1;34m(self, key)\u001b[0m\n\u001b[0;32m   3793\u001b[0m     \u001b[38;5;28;01mif\u001b[39;00m \u001b[38;5;28misinstance\u001b[39m(casted_key, \u001b[38;5;28mslice\u001b[39m) \u001b[38;5;129;01mor\u001b[39;00m (\n\u001b[0;32m   3794\u001b[0m         \u001b[38;5;28misinstance\u001b[39m(casted_key, abc\u001b[38;5;241m.\u001b[39mIterable)\n\u001b[0;32m   3795\u001b[0m         \u001b[38;5;129;01mand\u001b[39;00m \u001b[38;5;28many\u001b[39m(\u001b[38;5;28misinstance\u001b[39m(x, \u001b[38;5;28mslice\u001b[39m) \u001b[38;5;28;01mfor\u001b[39;00m x \u001b[38;5;129;01min\u001b[39;00m casted_key)\n\u001b[0;32m   3796\u001b[0m     ):\n\u001b[0;32m   3797\u001b[0m         \u001b[38;5;28;01mraise\u001b[39;00m InvalidIndexError(key)\n\u001b[1;32m-> 3798\u001b[0m     \u001b[38;5;28;01mraise\u001b[39;00m \u001b[38;5;167;01mKeyError\u001b[39;00m(key) \u001b[38;5;28;01mfrom\u001b[39;00m \u001b[38;5;21;01merr\u001b[39;00m\n\u001b[0;32m   3799\u001b[0m \u001b[38;5;28;01mexcept\u001b[39;00m \u001b[38;5;167;01mTypeError\u001b[39;00m:\n\u001b[0;32m   3800\u001b[0m     \u001b[38;5;66;03m# If we have a listlike key, _check_indexing_error will raise\u001b[39;00m\n\u001b[0;32m   3801\u001b[0m     \u001b[38;5;66;03m#  InvalidIndexError. Otherwise we fall through and re-raise\u001b[39;00m\n\u001b[0;32m   3802\u001b[0m     \u001b[38;5;66;03m#  the TypeError.\u001b[39;00m\n\u001b[0;32m   3803\u001b[0m     \u001b[38;5;28mself\u001b[39m\u001b[38;5;241m.\u001b[39m_check_indexing_error(key)\n",
      "\u001b[1;31mKeyError\u001b[0m: 'NUMBER_OF_SUBPOENA'"
     ]
    }
   ],
   "source": [
    "if __name__ == \"__main__\":\n",
    "    main()\n"
   ]
  },
  {
   "cell_type": "code",
   "execution_count": null,
   "id": "42e764d6",
   "metadata": {},
   "outputs": [],
   "source": []
  },
  {
   "cell_type": "markdown",
   "id": "dbc89469",
   "metadata": {},
   "source": [
    "## Test Engine\n"
   ]
  },
  {
   "cell_type": "markdown",
   "id": "02ca3626",
   "metadata": {},
   "source": [
    "1. Test the lookup inscope function whether it is process the correct risk factors or not\n",
    "   - create a hardcoded list with entries of Y|N so accordingly verify using test cases\n",
    "     - Only 1 risk factor is processed\n",
    "     - Only 2 risk factors are processed\n",
    "     - All risk factors are processed\n",
    "2.\n"
   ]
  }
 ],
 "metadata": {
  "kernelspec": {
   "display_name": "Python 3 (ipykernel)",
   "language": "python",
   "name": "python3"
  },
  "language_info": {
   "codemirror_mode": {
    "name": "ipython",
    "version": 3
   },
   "file_extension": ".py",
   "mimetype": "text/x-python",
   "name": "python",
   "nbconvert_exporter": "python",
   "pygments_lexer": "ipython3",
   "version": "3.11.7"
  }
 },
 "nbformat": 4,
 "nbformat_minor": 5
}
